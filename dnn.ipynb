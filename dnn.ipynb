{
 "cells": [
  {
   "cell_type": "markdown",
   "metadata": {},
   "source": [
    "# DNN classifier\n",
    "\n",
    "reference data: https://labs.criteo.com/2013/12/download-terabyte-click-logs-2/"
   ]
  },
  {
   "cell_type": "code",
   "execution_count": 1,
   "metadata": {},
   "outputs": [],
   "source": [
    "import pandas as pd\n",
    "import numpy as np\n",
    "import pickle\n",
    "from os import path\n",
    "from matplotlib import pyplot as plt\n",
    "\n",
    "import tensorflow as tf\n",
    "from tensorflow.keras.layers.experimental.preprocessing import PreprocessingLayer, TextVectorization"
   ]
  },
  {
   "cell_type": "markdown",
   "metadata": {},
   "source": [
    "### 1. Data batching"
   ]
  },
  {
   "cell_type": "markdown",
   "metadata": {},
   "source": [
    "#### 1.1. Load dataset"
   ]
  },
  {
   "cell_type": "code",
   "execution_count": 2,
   "metadata": {},
   "outputs": [],
   "source": [
    "LBL_COLUMN = ['lbl']\n",
    "CAT_COLUMNS = [f'cat{i}' for i in range(26)]\n",
    "NUM_COLUMNS = [f'num{i}' for i in range(13)]\n",
    "COLUMNS = LBL_COLUMN + NUM_COLUMNS + CAT_COLUMNS\n",
    "FEATURE_COLUMNS = NUM_COLUMNS + CAT_COLUMNS\n",
    "COLUMN_DEFAULTS = [0]*14 + ['thisisdefault']*26"
   ]
  },
  {
   "cell_type": "code",
   "execution_count": 3,
   "metadata": {},
   "outputs": [],
   "source": [
    "dataset = tf.data.experimental.make_csv_dataset(\n",
    "    file_pattern='data/dac/sample_train.txt', \n",
    "    batch_size=200,\n",
    "    num_epochs=1,\n",
    "    column_defaults=COLUMN_DEFAULTS,\n",
    "    column_names=COLUMNS, \n",
    "    label_name='lbl', \n",
    "    field_delim='\\t',\n",
    "    shuffle=True\n",
    ")\\\n",
    ".shuffle(10, reshuffle_each_iteration=False)"
   ]
  },
  {
   "cell_type": "markdown",
   "metadata": {},
   "source": [
    "#### 1.2. Conbine the columes"
   ]
  },
  {
   "cell_type": "code",
   "execution_count": 4,
   "metadata": {},
   "outputs": [],
   "source": [
    "class FeaturesExtraction:\n",
    "    \n",
    "    def __init__(self, num_col, feature_type=None):\n",
    "        self.num_col = num_col\n",
    "        self.feature_type = feature_type\n",
    "\n",
    "    def __call__(self, features, labels):\n",
    "        numeric_features = [features.pop(col) for col in self.num_col]\n",
    "        numeric_features = [tf.cast(feat, tf.float32) for feat in numeric_features]\n",
    "        numeric_features = tf.stack(numeric_features, axis=-1)\n",
    "        \n",
    "        if self.feature_type == 'cat':\n",
    "            return features\n",
    "        if self.feature_type == 'numeric':\n",
    "            return numeric_features\n",
    "        if self.feature_type == 'no_label':\n",
    "            features['numeric'] = numeric_features\n",
    "            return features\n",
    "        else:\n",
    "            features['numeric'] = numeric_features\n",
    "            return features, labels\n"
   ]
  },
  {
   "cell_type": "code",
   "execution_count": 5,
   "metadata": {},
   "outputs": [],
   "source": [
    "packed_dataset = dataset.map(FeaturesExtraction(num_col=NUM_COLUMNS))"
   ]
  },
  {
   "cell_type": "markdown",
   "metadata": {},
   "source": [
    "#### 1.3. Training / validation split"
   ]
  },
  {
   "cell_type": "code",
   "execution_count": 6,
   "metadata": {},
   "outputs": [],
   "source": [
    "def is_validate(idx, data):\n",
    "    return idx % 5 == 0\n",
    "\n",
    "def is_train(idx, data):\n",
    "    return not is_validate(idx, data)\n",
    "\n",
    "recover = lambda idx, data: data\n",
    "\n",
    "validate_dataset = packed_dataset.enumerate()\\\n",
    ".filter(is_validate)\\\n",
    ".map(recover)\n",
    "\n",
    "train_dataset = packed_dataset.enumerate()\\\n",
    ".filter(is_train)\\\n",
    ".map(recover)"
   ]
  },
  {
   "cell_type": "markdown",
   "metadata": {},
   "source": [
    "### 2. Data processing"
   ]
  },
  {
   "cell_type": "code",
   "execution_count": 7,
   "metadata": {},
   "outputs": [],
   "source": [
    "class DataProcessingLayer(PreprocessingLayer):\n",
    "    \n",
    "    def __init__(self, ls_cat_col, num_col, vocabulary=None, **kwargs):\n",
    "        \n",
    "        super(DataProcessingLayer, self).__init__(**kwargs)\n",
    "        self._ls_cat_col = ls_cat_col\n",
    "        self._num_col = num_col\n",
    "        self._dict_cat_vocab = vocabulary\n",
    "        \n",
    "        self._dict_vectorization_layer = dict()\n",
    "        for key in ls_cat_col:\n",
    "            self._dict_vectorization_layer.update({\n",
    "                key: TextVectorization(output_sequence_length=1)\n",
    "            })\n",
    "        self.processing_layer = None\n",
    "    \n",
    "    def adapt(self, data):\n",
    "        \n",
    "        for cat_col in self._ls_cat_col:\n",
    "            print(f'adapting col: {cat_col}')\n",
    "            tmp_dataset = data.map(lambda feature, label: feature.pop(cat_col))\n",
    "            self._dict_vectorization_layer[cat_col].adapt(tmp_dataset)\n",
    "        \n",
    "        self._dict_cat_vocab = dict()\n",
    "        for cat_col in self._ls_cat_col:\n",
    "            self._dict_cat_vocab.update({\n",
    "                cat_col: self._dict_vectorization_layer[cat_col].get_vocabulary()\n",
    "            })\n",
    "                \n",
    "    def build(self, input_shape):\n",
    "        \n",
    "        ls_feature_cat_col = list()\n",
    "        ls_feature_num_col = list()\n",
    "        \n",
    "        for cat_col, vocab in self._dict_cat_vocab.items():\n",
    "            tf_cat_vocab = tf.feature_column.categorical_column_with_vocabulary_list(\n",
    "                key=cat_col, vocabulary_list=vocab)\n",
    "            ls_feature_cat_col.append(tf.feature_column.indicator_column(tf_cat_vocab))\n",
    "        \n",
    "        tf_feature_num = tf.feature_column.numeric_column(self._num_col, shape=input_shape[self._num_col].as_list()[-1])\n",
    "        ls_feature_num_col.append(tf_feature_num)\n",
    "        \n",
    "        self.processing_layer = tf.keras.layers.DenseFeatures(ls_feature_cat_col + ls_feature_num_col)\n",
    "        \n",
    "    def call(self, inputs):\n",
    "        \n",
    "        return self.processing_layer(inputs)\n",
    "    \n",
    "    def get_config(self):\n",
    "        \n",
    "        config = super(DataProcessingLayer, self).get_config()\n",
    "        config.update({\n",
    "            'ls_cat_col': self._ls_cat_col,\n",
    "            'num_col': self._num_col,\n",
    "            'vocabulary': self._dict_cat_vocab\n",
    "        })\n",
    "        \n",
    "        return config\n",
    "    \n",
    "    @classmethod\n",
    "    def from_config(cls, config):\n",
    "        \n",
    "        return cls(**config)\n",
    "        "
   ]
  },
  {
   "cell_type": "code",
   "execution_count": 8,
   "metadata": {},
   "outputs": [],
   "source": [
    "def build_data_processing_layer(file_path, dataset, re_build=True):\n",
    "\n",
    "    if path.exists(file_path) and re_build == False:\n",
    "\n",
    "        with open(file_path, 'rb') as f:\n",
    "            serialized_layer = pickle.load(f) \n",
    "        layer = tf.keras.layers.deserialize(\n",
    "            serialized_layer, custom_objects={'DataProcessingLayer': DataProcessingLayer}\n",
    "        )\n",
    "        \n",
    "        print(f'Loaded the saved layer from {file_path}')\n",
    "\n",
    "        return layer\n",
    "\n",
    "    else:\n",
    "\n",
    "        layer = DataProcessingLayer(\n",
    "            ls_cat_col=CAT_COLUMNS,\n",
    "            num_col='numeric',\n",
    "            name='data_processing_layer'\n",
    "        )\n",
    "        layer.adapt(data=dataset)\n",
    "        serialized_layer = tf.keras.layers.serialize(layer)\n",
    "        with open(file_path, 'wb') as f:\n",
    "            pickle.dump(serialized_layer, f)\n",
    "            \n",
    "        print(f'Saved the layer to {file_path}')\n",
    "        \n",
    "        return layer"
   ]
  },
  {
   "cell_type": "code",
   "execution_count": 9,
   "metadata": {},
   "outputs": [
    {
     "name": "stdout",
     "output_type": "stream",
     "text": [
      "Loaded the saved layer from saved/layer/DataProcessingLayer.pkl\n"
     ]
    }
   ],
   "source": [
    "data_processing_layer = build_data_processing_layer(\n",
    "    file_path='saved/layer/DataProcessingLayer.pkl',\n",
    "    dataset=train_dataset,\n",
    "    re_build=False\n",
    ")"
   ]
  },
  {
   "cell_type": "markdown",
   "metadata": {},
   "source": [
    "### 3. ANN Model Building"
   ]
  },
  {
   "cell_type": "code",
   "execution_count": 10,
   "metadata": {},
   "outputs": [],
   "source": [
    "ann_model_input = {\n",
    "    'numeric': tf.keras.Input((len(NUM_COLUMNS),), dtype=tf.dtypes.float32, name=f'numeric_input')\n",
    "}\n",
    "\n",
    "for cat_column in CAT_COLUMNS:\n",
    "    ann_model_input.update({cat_column: tf.keras.Input((1,), dtype=tf.dtypes.string, name=f'{cat_column}_input')})\n",
    "\n",
    "x = data_processing_layer(ann_model_input)\n",
    "x = tf.keras.layers.Dense(128, activation=\"relu\", name='hiden_layer_1')(x)\n",
    "x = tf.keras.layers.Dense(128, activation=\"relu\", name='hiden_layer_2')(x)\n",
    "ann_model_output = tf.keras.layers.Dense(1, activation='sigmoid', name='output_layer')(x)\n",
    "\n",
    "ann_model = tf.keras.Model(\n",
    "    inputs=ann_model_input, \n",
    "    outputs=ann_model_output, \n",
    "    name='binary_classifer')\n",
    "\n",
    "METRICS = [\n",
    "      tf.keras.metrics.TruePositives(name='tp'),\n",
    "      tf.keras.metrics.FalsePositives(name='fp'),\n",
    "      tf.keras.metrics.TrueNegatives(name='tn'),\n",
    "      tf.keras.metrics.FalseNegatives(name='fn'), \n",
    "      tf.keras.metrics.BinaryAccuracy(name='accuracy'),\n",
    "      tf.keras.metrics.Precision(name='precision'),\n",
    "      tf.keras.metrics.Recall(name='recall'),\n",
    "      tf.keras.metrics.AUC(name='auc'),\n",
    "]\n",
    "\n",
    "ann_model.compile(\n",
    "    loss=tf.keras.losses.BinaryCrossentropy(from_logits=True),\n",
    "    optimizer='adam',\n",
    "    metrics=METRICS)"
   ]
  },
  {
   "cell_type": "code",
   "execution_count": 11,
   "metadata": {},
   "outputs": [
    {
     "name": "stdout",
     "output_type": "stream",
     "text": [
      "Model: \"binary_classifer\"\n",
      "__________________________________________________________________________________________________\n",
      "Layer (type)                    Output Shape         Param #     Connected to                     \n",
      "==================================================================================================\n",
      "cat0_input (InputLayer)         [(None, 1)]          0                                            \n",
      "__________________________________________________________________________________________________\n",
      "cat1_input (InputLayer)         [(None, 1)]          0                                            \n",
      "__________________________________________________________________________________________________\n",
      "cat10_input (InputLayer)        [(None, 1)]          0                                            \n",
      "__________________________________________________________________________________________________\n",
      "cat11_input (InputLayer)        [(None, 1)]          0                                            \n",
      "__________________________________________________________________________________________________\n",
      "cat12_input (InputLayer)        [(None, 1)]          0                                            \n",
      "__________________________________________________________________________________________________\n",
      "cat13_input (InputLayer)        [(None, 1)]          0                                            \n",
      "__________________________________________________________________________________________________\n",
      "cat14_input (InputLayer)        [(None, 1)]          0                                            \n",
      "__________________________________________________________________________________________________\n",
      "cat15_input (InputLayer)        [(None, 1)]          0                                            \n",
      "__________________________________________________________________________________________________\n",
      "cat16_input (InputLayer)        [(None, 1)]          0                                            \n",
      "__________________________________________________________________________________________________\n",
      "cat17_input (InputLayer)        [(None, 1)]          0                                            \n",
      "__________________________________________________________________________________________________\n",
      "cat18_input (InputLayer)        [(None, 1)]          0                                            \n",
      "__________________________________________________________________________________________________\n",
      "cat19_input (InputLayer)        [(None, 1)]          0                                            \n",
      "__________________________________________________________________________________________________\n",
      "cat2_input (InputLayer)         [(None, 1)]          0                                            \n",
      "__________________________________________________________________________________________________\n",
      "cat20_input (InputLayer)        [(None, 1)]          0                                            \n",
      "__________________________________________________________________________________________________\n",
      "cat21_input (InputLayer)        [(None, 1)]          0                                            \n",
      "__________________________________________________________________________________________________\n",
      "cat22_input (InputLayer)        [(None, 1)]          0                                            \n",
      "__________________________________________________________________________________________________\n",
      "cat23_input (InputLayer)        [(None, 1)]          0                                            \n",
      "__________________________________________________________________________________________________\n",
      "cat24_input (InputLayer)        [(None, 1)]          0                                            \n",
      "__________________________________________________________________________________________________\n",
      "cat25_input (InputLayer)        [(None, 1)]          0                                            \n",
      "__________________________________________________________________________________________________\n",
      "cat3_input (InputLayer)         [(None, 1)]          0                                            \n",
      "__________________________________________________________________________________________________\n",
      "cat4_input (InputLayer)         [(None, 1)]          0                                            \n",
      "__________________________________________________________________________________________________\n",
      "cat5_input (InputLayer)         [(None, 1)]          0                                            \n",
      "__________________________________________________________________________________________________\n",
      "cat6_input (InputLayer)         [(None, 1)]          0                                            \n",
      "__________________________________________________________________________________________________\n",
      "cat7_input (InputLayer)         [(None, 1)]          0                                            \n",
      "__________________________________________________________________________________________________\n",
      "cat8_input (InputLayer)         [(None, 1)]          0                                            \n",
      "__________________________________________________________________________________________________\n",
      "cat9_input (InputLayer)         [(None, 1)]          0                                            \n",
      "__________________________________________________________________________________________________\n",
      "numeric_input (InputLayer)      [(None, 13)]         0                                            \n",
      "__________________________________________________________________________________________________\n",
      "data_processing_layer (DataProc (None, 2123)         0           cat0_input[0][0]                 \n",
      "                                                                 cat1_input[0][0]                 \n",
      "                                                                 cat10_input[0][0]                \n",
      "                                                                 cat11_input[0][0]                \n",
      "                                                                 cat12_input[0][0]                \n",
      "                                                                 cat13_input[0][0]                \n",
      "                                                                 cat14_input[0][0]                \n",
      "                                                                 cat15_input[0][0]                \n",
      "                                                                 cat16_input[0][0]                \n",
      "                                                                 cat17_input[0][0]                \n",
      "                                                                 cat18_input[0][0]                \n",
      "                                                                 cat19_input[0][0]                \n",
      "                                                                 cat2_input[0][0]                 \n",
      "                                                                 cat20_input[0][0]                \n",
      "                                                                 cat21_input[0][0]                \n",
      "                                                                 cat22_input[0][0]                \n",
      "                                                                 cat23_input[0][0]                \n",
      "                                                                 cat24_input[0][0]                \n",
      "                                                                 cat25_input[0][0]                \n",
      "                                                                 cat3_input[0][0]                 \n",
      "                                                                 cat4_input[0][0]                 \n",
      "                                                                 cat5_input[0][0]                 \n",
      "                                                                 cat6_input[0][0]                 \n",
      "                                                                 cat7_input[0][0]                 \n",
      "                                                                 cat8_input[0][0]                 \n",
      "                                                                 cat9_input[0][0]                 \n",
      "                                                                 numeric_input[0][0]              \n",
      "__________________________________________________________________________________________________\n",
      "hiden_layer_1 (Dense)           (None, 128)          271872      data_processing_layer[0][0]      \n",
      "__________________________________________________________________________________________________\n",
      "hiden_layer_2 (Dense)           (None, 128)          16512       hiden_layer_1[0][0]              \n",
      "__________________________________________________________________________________________________\n",
      "output_layer (Dense)            (None, 1)            129         hiden_layer_2[0][0]              \n",
      "==================================================================================================\n",
      "Total params: 288,513\n",
      "Trainable params: 288,513\n",
      "Non-trainable params: 0\n",
      "__________________________________________________________________________________________________\n"
     ]
    }
   ],
   "source": [
    "ann_model.summary()"
   ]
  },
  {
   "cell_type": "markdown",
   "metadata": {},
   "source": [
    "### 5. Training"
   ]
  },
  {
   "cell_type": "code",
   "execution_count": 12,
   "metadata": {},
   "outputs": [
    {
     "name": "stdout",
     "output_type": "stream",
     "text": [
      "Epoch 1/20\n",
      "48/48 [==============================] - 3s 52ms/step - loss: 0.7101 - tp: 39.0000 - fp: 253.0000 - tn: 7381.0000 - fn: 1927.0000 - accuracy: 0.7729 - precision: 0.1336 - recall: 0.0198 - auc: 0.4912 - val_loss: 0.6932 - val_tp: 0.0000e+00 - val_fp: 0.0000e+00 - val_tn: 1862.0000 - val_fn: 489.0000 - val_accuracy: 0.7920 - val_precision: 0.0000e+00 - val_recall: 0.0000e+00 - val_auc: 0.5000\n",
      "Epoch 2/20\n",
      "48/48 [==============================] - 1s 21ms/step - loss: 0.6932 - tp: 0.0000e+00 - fp: 0.0000e+00 - tn: 7643.0000 - fn: 1957.0000 - accuracy: 0.7961 - precision: 0.0000e+00 - recall: 0.0000e+00 - auc: 0.5000 - val_loss: 0.6932 - val_tp: 0.0000e+00 - val_fp: 0.0000e+00 - val_tn: 1876.0000 - val_fn: 475.0000 - val_accuracy: 0.7980 - val_precision: 0.0000e+00 - val_recall: 0.0000e+00 - val_auc: 0.5000\n",
      "Epoch 3/20\n",
      "48/48 [==============================] - 1s 21ms/step - loss: 0.6931 - tp: 0.0000e+00 - fp: 0.0000e+00 - tn: 7632.0000 - fn: 1968.0000 - accuracy: 0.7950 - precision: 0.0000e+00 - recall: 0.0000e+00 - auc: 0.5020 - val_loss: 0.6931 - val_tp: 0.0000e+00 - val_fp: 0.0000e+00 - val_tn: 1866.0000 - val_fn: 485.0000 - val_accuracy: 0.7937 - val_precision: 0.0000e+00 - val_recall: 0.0000e+00 - val_auc: 0.5062\n",
      "Epoch 4/20\n",
      "48/48 [==============================] - 1s 21ms/step - loss: 0.6927 - tp: 9.0000 - fp: 0.0000e+00 - tn: 7642.0000 - fn: 1949.0000 - accuracy: 0.7970 - precision: 1.0000 - recall: 0.0046 - auc: 0.5135 - val_loss: 0.6911 - val_tp: 14.0000 - val_fp: 0.0000e+00 - val_tn: 1903.0000 - val_fn: 434.0000 - val_accuracy: 0.8154 - val_precision: 1.0000 - val_recall: 0.0312 - val_auc: 0.5246\n",
      "Epoch 5/20\n",
      "48/48 [==============================] - 1s 21ms/step - loss: 0.6832 - tp: 286.0000 - fp: 19.0000 - tn: 7622.0000 - fn: 1673.0000 - accuracy: 0.8238 - precision: 0.9377 - recall: 0.1460 - auc: 0.5884 - val_loss: 0.6708 - val_tp: 137.0000 - val_fp: 0.0000e+00 - val_tn: 1875.0000 - val_fn: 339.0000 - val_accuracy: 0.8558 - val_precision: 1.0000 - val_recall: 0.2878 - val_auc: 0.6565\n",
      "Epoch 6/20\n",
      "48/48 [==============================] - 1s 22ms/step - loss: 0.6699 - tp: 589.0000 - fp: 0.0000e+00 - tn: 7646.0000 - fn: 1365.0000 - accuracy: 0.8578 - precision: 1.0000 - recall: 0.3014 - auc: 0.6513 - val_loss: 0.6691 - val_tp: 149.0000 - val_fp: 0.0000e+00 - val_tn: 1863.0000 - val_fn: 339.0000 - val_accuracy: 0.8558 - val_precision: 1.0000 - val_recall: 0.3053 - val_auc: 0.6527\n",
      "Epoch 7/20\n",
      "48/48 [==============================] - 1s 23ms/step - loss: 0.6697 - tp: 599.0000 - fp: 0.0000e+00 - tn: 7621.0000 - fn: 1380.0000 - accuracy: 0.8562 - precision: 1.0000 - recall: 0.3027 - auc: 0.6526 - val_loss: 0.6696 - val_tp: 146.0000 - val_fp: 0.0000e+00 - val_tn: 1888.0000 - val_fn: 317.0000 - val_accuracy: 0.8652 - val_precision: 1.0000 - val_recall: 0.3153 - val_auc: 0.6577\n",
      "Epoch 8/20\n",
      "48/48 [==============================] - 1s 21ms/step - loss: 0.6684 - tp: 626.0000 - fp: 0.0000e+00 - tn: 7647.0000 - fn: 1327.0000 - accuracy: 0.8618 - precision: 1.0000 - recall: 0.3205 - auc: 0.6603 - val_loss: 0.6684 - val_tp: 153.0000 - val_fp: 0.0000e+00 - val_tn: 1861.0000 - val_fn: 337.0000 - val_accuracy: 0.8567 - val_precision: 1.0000 - val_recall: 0.3122 - val_auc: 0.6561\n",
      "Epoch 9/20\n",
      "48/48 [==============================] - 1s 21ms/step - loss: 0.6679 - tp: 637.0000 - fp: 0.0000e+00 - tn: 7655.0000 - fn: 1308.0000 - accuracy: 0.8637 - precision: 1.0000 - recall: 0.3275 - auc: 0.6638 - val_loss: 0.6688 - val_tp: 151.0000 - val_fp: 0.0000e+00 - val_tn: 1880.0000 - val_fn: 320.0000 - val_accuracy: 0.8639 - val_precision: 1.0000 - val_recall: 0.3206 - val_auc: 0.6603\n",
      "Epoch 10/20\n",
      "48/48 [==============================] - 1s 26ms/step - loss: 0.6674 - tp: 651.0000 - fp: 0.0000e+00 - tn: 7644.0000 - fn: 1305.0000 - accuracy: 0.8641 - precision: 1.0000 - recall: 0.3328 - auc: 0.6664 - val_loss: 0.6665 - val_tp: 165.0000 - val_fp: 0.0000e+00 - val_tn: 1862.0000 - val_fn: 324.0000 - val_accuracy: 0.8622 - val_precision: 1.0000 - val_recall: 0.3374 - val_auc: 0.6687\n",
      "Epoch 11/20\n",
      "48/48 [==============================] - 1s 27ms/step - loss: 0.6683 - tp: 627.0000 - fp: 0.0000e+00 - tn: 7657.0000 - fn: 1316.0000 - accuracy: 0.8629 - precision: 1.0000 - recall: 0.3227 - auc: 0.6613 - val_loss: 0.6662 - val_tp: 167.0000 - val_fp: 0.0000e+00 - val_tn: 1862.0000 - val_fn: 322.0000 - val_accuracy: 0.8630 - val_precision: 1.0000 - val_recall: 0.3415 - val_auc: 0.6708\n",
      "Epoch 12/20\n",
      "48/48 [==============================] - 1s 27ms/step - loss: 0.6677 - tp: 644.0000 - fp: 0.0000e+00 - tn: 7637.0000 - fn: 1319.0000 - accuracy: 0.8626 - precision: 1.0000 - recall: 0.3281 - auc: 0.6640 - val_loss: 0.6699 - val_tp: 144.0000 - val_fp: 0.0000e+00 - val_tn: 1873.0000 - val_fn: 334.0000 - val_accuracy: 0.8579 - val_precision: 1.0000 - val_recall: 0.3013 - val_auc: 0.6506\n",
      "Epoch 13/20\n",
      "48/48 [==============================] - 1s 26ms/step - loss: 0.6677 - tp: 643.0000 - fp: 0.0000e+00 - tn: 7656.0000 - fn: 1301.0000 - accuracy: 0.8645 - precision: 1.0000 - recall: 0.3308 - auc: 0.6654 - val_loss: 0.6700 - val_tp: 143.0000 - val_fp: 0.0000e+00 - val_tn: 1868.0000 - val_fn: 340.0000 - val_accuracy: 0.8554 - val_precision: 1.0000 - val_recall: 0.2961 - val_auc: 0.6480\n",
      "Epoch 14/20\n",
      "48/48 [==============================] - 1s 23ms/step - loss: 0.6682 - tp: 630.0000 - fp: 0.0000e+00 - tn: 7657.0000 - fn: 1313.0000 - accuracy: 0.8632 - precision: 1.0000 - recall: 0.3242 - auc: 0.6621 - val_loss: 0.6697 - val_tp: 145.0000 - val_fp: 0.0000e+00 - val_tn: 1874.0000 - val_fn: 332.0000 - val_accuracy: 0.8588 - val_precision: 1.0000 - val_recall: 0.3040 - val_auc: 0.6520\n",
      "Epoch 15/20\n",
      "48/48 [==============================] - 1s 22ms/step - loss: 0.6683 - tp: 627.0000 - fp: 0.0000e+00 - tn: 7620.0000 - fn: 1353.0000 - accuracy: 0.8591 - precision: 1.0000 - recall: 0.3167 - auc: 0.6583 - val_loss: 0.6710 - val_tp: 137.0000 - val_fp: 0.0000e+00 - val_tn: 1844.0000 - val_fn: 370.0000 - val_accuracy: 0.8426 - val_precision: 1.0000 - val_recall: 0.2702 - val_auc: 0.6351\n",
      "Epoch 16/20\n",
      "48/48 [==============================] - 1s 22ms/step - loss: 0.6672 - tp: 656.0000 - fp: 0.0000e+00 - tn: 7606.0000 - fn: 1338.0000 - accuracy: 0.8606 - precision: 1.0000 - recall: 0.3290 - auc: 0.6645 - val_loss: 0.6683 - val_tp: 154.0000 - val_fp: 0.0000e+00 - val_tn: 1851.0000 - val_fn: 346.0000 - val_accuracy: 0.8528 - val_precision: 1.0000 - val_recall: 0.3080 - val_auc: 0.6540\n",
      "Epoch 17/20\n",
      "48/48 [==============================] - 1s 28ms/step - loss: 0.6687 - tp: 618.0000 - fp: 0.0000e+00 - tn: 7657.0000 - fn: 1325.0000 - accuracy: 0.8620 - precision: 1.0000 - recall: 0.3181 - auc: 0.6590 - val_loss: 0.6684 - val_tp: 153.0000 - val_fp: 0.0000e+00 - val_tn: 1864.0000 - val_fn: 334.0000 - val_accuracy: 0.8579 - val_precision: 1.0000 - val_recall: 0.3142 - val_auc: 0.6571\n",
      "Epoch 18/20\n",
      "48/48 [==============================] - 1s 25ms/step - loss: 0.6682 - tp: 630.0000 - fp: 0.0000e+00 - tn: 7661.0000 - fn: 1309.0000 - accuracy: 0.8636 - precision: 1.0000 - recall: 0.3249 - auc: 0.6625 - val_loss: 0.6686 - val_tp: 152.0000 - val_fp: 0.0000e+00 - val_tn: 1878.0000 - val_fn: 321.0000 - val_accuracy: 0.8635 - val_precision: 1.0000 - val_recall: 0.3214 - val_auc: 0.6607\n",
      "Epoch 19/20\n",
      "48/48 [==============================] - 1s 30ms/step - loss: 0.6666 - tp: 670.0000 - fp: 0.0000e+00 - tn: 7634.0000 - fn: 1296.0000 - accuracy: 0.8650 - precision: 1.0000 - recall: 0.3408 - auc: 0.6704 - val_loss: 0.6681 - val_tp: 155.0000 - val_fp: 0.0000e+00 - val_tn: 1857.0000 - val_fn: 339.0000 - val_accuracy: 0.8558 - val_precision: 1.0000 - val_recall: 0.3138 - val_auc: 0.6569\n",
      "Epoch 20/20\n",
      "48/48 [==============================] - 1s 22ms/step - loss: 0.6681 - tp: 632.0000 - fp: 0.0000e+00 - tn: 7652.0000 - fn: 1316.0000 - accuracy: 0.8629 - precision: 1.0000 - recall: 0.3244 - auc: 0.6622 - val_loss: 0.6681 - val_tp: 155.0000 - val_fp: 0.0000e+00 - val_tn: 1868.0000 - val_fn: 328.0000 - val_accuracy: 0.8605 - val_precision: 1.0000 - val_recall: 0.3209 - val_auc: 0.6605\n"
     ]
    }
   ],
   "source": [
    "model_history = ann_model.fit(\n",
    "    train_dataset, \n",
    "    validation_data=validate_dataset, \n",
    "    epochs=20, \n",
    "    workers=4)"
   ]
  },
  {
   "cell_type": "code",
   "execution_count": 13,
   "metadata": {},
   "outputs": [],
   "source": [
    "def fitting_plot(fitting_history, \n",
    "                 metrics):\n",
    "    \n",
    "    plt.figure(figsize=(10,5))\n",
    "    plt.plot(fitting_history.history[metrics])\n",
    "    plt.plot(fitting_history.history[f'val_{metrics}'])\n",
    "    plt.title(f'model {metrics}')\n",
    "    plt.ylabel(metrics)\n",
    "    plt.xlabel('epoch')\n",
    "    plt.legend(['train', 'val'])\n",
    "    plt.show()"
   ]
  },
  {
   "cell_type": "code",
   "execution_count": 14,
   "metadata": {},
   "outputs": [
    {
     "data": {
      "image/png": "[encoded data removed]",
      "text/plain": [
       "<Figure size 720x360 with 1 Axes>"
      ]
     },
     "metadata": {
      "needs_background": "light"
     },
     "output_type": "display_data"
    },
    {
     "data": {
      "image/png": "[encoded data removed]",
      "text/plain": [
       "<Figure size 720x360 with 1 Axes>"
      ]
     },
     "metadata": {
      "needs_background": "light"
     },
     "output_type": "display_data"
    },
    {
     "data": {
      "image/png": "[encoded data removed]",
      "text/plain": [
       "<Figure size 720x360 with 1 Axes>"
      ]
     },
     "metadata": {
      "needs_background": "light"
     },
     "output_type": "display_data"
    }
   ],
   "source": [
    "for metrics in ['loss', 'accuracy', 'auc']:\n",
    "    fitting_plot(fitting_history=model_history, metrics=metrics)"
   ]
  },
  {
   "cell_type": "markdown",
   "metadata": {},
   "source": [
    "### 6. Evaluation"
   ]
  },
  {
   "cell_type": "markdown",
   "metadata": {},
   "source": [
    "#### 6.1 Load testing dataset"
   ]
  },
  {
   "cell_type": "code",
   "execution_count": 15,
   "metadata": {},
   "outputs": [],
   "source": [
    "testing_dataset = tf.data.experimental.make_csv_dataset(\n",
    "    file_pattern='data/dac/sample_test.txt', \n",
    "    batch_size=200,\n",
    "    num_epochs=1,\n",
    "    column_defaults=COLUMN_DEFAULTS,\n",
    "    column_names=COLUMNS, \n",
    "    label_name='lbl', \n",
    "    field_delim='\\t',\n",
    "    shuffle=True\n",
    ").shuffle(10, reshuffle_each_iteration=False)"
   ]
  },
  {
   "cell_type": "code",
   "execution_count": 16,
   "metadata": {},
   "outputs": [],
   "source": [
    "testing_packed_dataset = testing_dataset.map(FeaturesExtraction(num_col=NUM_COLUMNS))"
   ]
  },
  {
   "cell_type": "code",
   "execution_count": 17,
   "metadata": {},
   "outputs": [
    {
     "data": {
      "text/plain": [
       "{'loss': 0.6679412722587585,\n",
       " 'tp': 793.0,\n",
       " 'fp': 0.0,\n",
       " 'tn': 9513.0,\n",
       " 'fn': 1645.0,\n",
       " 'accuracy': 0.8623546361923218,\n",
       " 'precision': 1.0,\n",
       " 'recall': 0.32526659965515137,\n",
       " 'auc': 0.6626332998275757}"
      ]
     },
     "execution_count": 17,
     "metadata": {},
     "output_type": "execute_result"
    }
   ],
   "source": [
    "ann_model.evaluate(testing_packed_dataset, return_dict=True, verbose=0)"
   ]
  },
  {
   "cell_type": "code",
   "execution_count": null,
   "metadata": {},
   "outputs": [],
   "source": []
  }
 ],
 "metadata": {
  "kernelspec": {
   "display_name": "binary_classifier_lab",
   "language": "python",
   "name": "binary_classifier_lab"
  },
  "language_info": {
   "codemirror_mode": {
    "name": "ipython",
    "version": 3
   },
   "file_extension": ".py",
   "mimetype": "text/x-python",
   "name": "python",
   "nbconvert_exporter": "python",
   "pygments_lexer": "ipython3",
   "version": "3.6.1"
  }
 },
 "nbformat": 4,
 "nbformat_minor": 4
}
