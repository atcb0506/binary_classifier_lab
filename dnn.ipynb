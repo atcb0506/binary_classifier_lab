{
 "cells": [
  {
   "cell_type": "markdown",
   "metadata": {},
   "source": [
    "# DNN classifier\n",
    "\n",
    "reference data: https://labs.criteo.com/2013/12/download-terabyte-click-logs-2/"
   ]
  },
  {
   "cell_type": "code",
   "execution_count": 1,
   "metadata": {},
   "outputs": [],
   "source": [
    "import pandas as pd\n",
    "import numpy as np\n",
    "from matplotlib import pyplot as plt\n",
    "import tensorflow as tf\n",
    "from tensorflow.keras.layers.experimental.preprocessing import PreprocessingLayer, TextVectorization"
   ]
  },
  {
   "cell_type": "markdown",
   "metadata": {},
   "source": [
    "### 1. Data batching"
   ]
  },
  {
   "cell_type": "markdown",
   "metadata": {},
   "source": [
    "#### 1.1. Load dataset"
   ]
  },
  {
   "cell_type": "code",
   "execution_count": 2,
   "metadata": {},
   "outputs": [],
   "source": [
    "LBL_COLUMN = ['lbl']\n",
    "CAT_COLUMNS = [f'cat{i}' for i in range(26)]\n",
    "NUM_COLUMNS = [f'num{i}' for i in range(13)]\n",
    "COLUMNS = LBL_COLUMN + NUM_COLUMNS + CAT_COLUMNS\n",
    "FEATURE_COLUMNS = NUM_COLUMNS + CAT_COLUMNS\n",
    "COLUMN_DEFAULTS = [0]*14 + ['thisisdefault']*26"
   ]
  },
  {
   "cell_type": "code",
   "execution_count": 3,
   "metadata": {},
   "outputs": [],
   "source": [
    "dataset = tf.data.experimental.make_csv_dataset(\n",
    "    file_pattern='data/dac/sample_train.txt', \n",
    "    batch_size=200,\n",
    "    num_epochs=1,\n",
    "    column_defaults=COLUMN_DEFAULTS,\n",
    "    column_names=COLUMNS, \n",
    "    label_name='lbl', \n",
    "    field_delim='\\t',\n",
    "    shuffle=True\n",
    ")\\\n",
    ".shuffle(10, reshuffle_each_iteration=False)"
   ]
  },
  {
   "cell_type": "markdown",
   "metadata": {},
   "source": [
    "#### 1.2. Conbine the columes"
   ]
  },
  {
   "cell_type": "code",
   "execution_count": 4,
   "metadata": {},
   "outputs": [],
   "source": [
    "class FeaturesExtraction:\n",
    "    \n",
    "    def __init__(self, num_col, feature_type=None):\n",
    "        self.num_col = num_col\n",
    "        self.feature_type = feature_type\n",
    "\n",
    "    def __call__(self, features, labels):\n",
    "        numeric_features = [features.pop(col) for col in self.num_col]\n",
    "        numeric_features = [tf.cast(feat, tf.float32) for feat in numeric_features]\n",
    "        numeric_features = tf.stack(numeric_features, axis=-1)\n",
    "        \n",
    "        if self.feature_type == 'cat':\n",
    "            return features\n",
    "        if self.feature_type == 'numeric':\n",
    "            return numeric_features\n",
    "        if self.feature_type == 'no_label':\n",
    "            features['numeric'] = numeric_features\n",
    "            return features\n",
    "        else:\n",
    "            features['numeric'] = numeric_features\n",
    "            return features, labels\n"
   ]
  },
  {
   "cell_type": "code",
   "execution_count": 5,
   "metadata": {},
   "outputs": [],
   "source": [
    "packed_dataset = dataset.map(FeaturesExtraction(num_col=NUM_COLUMNS))"
   ]
  },
  {
   "cell_type": "markdown",
   "metadata": {},
   "source": [
    "#### 1.3. Training / validation split"
   ]
  },
  {
   "cell_type": "code",
   "execution_count": 6,
   "metadata": {},
   "outputs": [],
   "source": [
    "def is_validate(idx, data):\n",
    "    return idx % 5 == 0\n",
    "\n",
    "def is_train(idx, data):\n",
    "    return not is_validate(idx, data)\n",
    "\n",
    "recover = lambda idx, data: data\n",
    "\n",
    "validate_dataset = packed_dataset.enumerate()\\\n",
    ".filter(is_validate)\\\n",
    ".map(recover)\n",
    "\n",
    "train_dataset = packed_dataset.enumerate()\\\n",
    ".filter(is_train)\\\n",
    ".map(recover)"
   ]
  },
  {
   "cell_type": "markdown",
   "metadata": {},
   "source": [
    "### 2. Data processing"
   ]
  },
  {
   "cell_type": "code",
   "execution_count": 7,
   "metadata": {},
   "outputs": [],
   "source": [
    "class DataProcessingLayer(PreprocessingLayer):\n",
    "    \n",
    "    def __init__(self, ls_cat_col, num_col, name=None):\n",
    "        \n",
    "        super(DataProcessingLayer, self).__init__(name=name)\n",
    "        self._ls_cat_col = ls_cat_col\n",
    "        self._num_col = num_col\n",
    "        self._dict_vectorization_layer = dict()\n",
    "        for key in ls_cat_col:\n",
    "            self._dict_vectorization_layer.update({\n",
    "                key: TextVectorization(output_sequence_length=1)\n",
    "            })\n",
    "        self.processing_layer = None\n",
    "    \n",
    "    def adapt(self, data):\n",
    "        \n",
    "        for cat_col in self._ls_cat_col:\n",
    "            tmp_dataset = data.map(lambda feature, label: feature.pop(cat_col))\n",
    "            self._dict_vectorization_layer[cat_col].adapt(tmp_dataset)\n",
    "    \n",
    "    def build(self, input_shape):\n",
    "        \n",
    "        dict_cat_vocab = dict()\n",
    "        ls_feature_cat_col = list()\n",
    "        ls_feature_num_col = list()\n",
    "        \n",
    "        for cat_col in self._ls_cat_col:\n",
    "            dict_cat_vocab.update({\n",
    "                cat_col: self._dict_vectorization_layer[cat_col].get_vocabulary()\n",
    "            })\n",
    "        \n",
    "        for cat_col, vocab in dict_cat_vocab.items():\n",
    "            tf_cat_vocab = tf.feature_column.categorical_column_with_vocabulary_list(\n",
    "                key=cat_col, vocabulary_list=vocab)\n",
    "            ls_feature_cat_col.append(tf.feature_column.indicator_column(tf_cat_vocab))\n",
    "        \n",
    "        tf_feature_num = tf.feature_column.numeric_column(self._num_col, shape=input_shape[self._num_col].as_list()[-1])\n",
    "        ls_feature_num_col.append(tf_feature_num)\n",
    "        \n",
    "        self.processing_layer = tf.keras.layers.DenseFeatures(\n",
    "            ls_feature_cat_col + ls_feature_num_col)\n",
    "        \n",
    "    def call(self, inputs):\n",
    "        \n",
    "        return self.processing_layer(inputs)\n",
    "        "
   ]
  },
  {
   "cell_type": "code",
   "execution_count": 8,
   "metadata": {},
   "outputs": [],
   "source": [
    "data_processing_layer = DataProcessingLayer(\n",
    "    ls_cat_col=CAT_COLUMNS,\n",
    "    num_col='numeric',\n",
    "    name='data_processing_layer'\n",
    ")"
   ]
  },
  {
   "cell_type": "code",
   "execution_count": 9,
   "metadata": {},
   "outputs": [],
   "source": [
    "data_processing_layer.adapt(data=train_dataset)"
   ]
  },
  {
   "cell_type": "markdown",
   "metadata": {},
   "source": [
    "### 3. ANN Model Building"
   ]
  },
  {
   "cell_type": "code",
   "execution_count": 10,
   "metadata": {},
   "outputs": [],
   "source": [
    "ann_model_input = {\n",
    "    'numeric': tf.keras.Input((len(NUM_COLUMNS),), dtype=tf.dtypes.float32, name=f'numeric_input')\n",
    "}\n",
    "\n",
    "for cat_column in CAT_COLUMNS:\n",
    "    ann_model_input.update({cat_column: tf.keras.Input((1,), dtype=tf.dtypes.string, name=f'{cat_column}_input')})\n",
    "\n",
    "x = data_processing_layer(ann_model_input)\n",
    "x = tf.keras.layers.Dense(128, activation=\"relu\", name='hiden_layer_1')(x)\n",
    "x = tf.keras.layers.Dense(128, activation=\"relu\", name='hiden_layer_2')(x)\n",
    "ann_model_output = tf.keras.layers.Dense(1, activation='sigmoid', name='output_layer')(x)\n",
    "\n",
    "ann_model = tf.keras.Model(\n",
    "    inputs=ann_model_input, \n",
    "    outputs=ann_model_output, \n",
    "    name='binary_classifer')\n",
    "\n",
    "METRICS = [\n",
    "      tf.keras.metrics.TruePositives(name='tp'),\n",
    "      tf.keras.metrics.FalsePositives(name='fp'),\n",
    "      tf.keras.metrics.TrueNegatives(name='tn'),\n",
    "      tf.keras.metrics.FalseNegatives(name='fn'), \n",
    "      tf.keras.metrics.BinaryAccuracy(name='accuracy'),\n",
    "      tf.keras.metrics.Precision(name='precision'),\n",
    "      tf.keras.metrics.Recall(name='recall'),\n",
    "      tf.keras.metrics.AUC(name='auc'),\n",
    "]\n",
    "\n",
    "ann_model.compile(\n",
    "    loss=tf.keras.losses.BinaryCrossentropy(from_logits=True),\n",
    "    optimizer='adam',\n",
    "    metrics=METRICS)"
   ]
  },
  {
   "cell_type": "code",
   "execution_count": 11,
   "metadata": {},
   "outputs": [
    {
     "name": "stdout",
     "output_type": "stream",
     "text": [
      "Model: \"binary_classifer\"\n",
      "__________________________________________________________________________________________________\n",
      "Layer (type)                    Output Shape         Param #     Connected to                     \n",
      "==================================================================================================\n",
      "cat0_input (InputLayer)         [(None, 1)]          0                                            \n",
      "__________________________________________________________________________________________________\n",
      "cat1_input (InputLayer)         [(None, 1)]          0                                            \n",
      "__________________________________________________________________________________________________\n",
      "cat10_input (InputLayer)        [(None, 1)]          0                                            \n",
      "__________________________________________________________________________________________________\n",
      "cat11_input (InputLayer)        [(None, 1)]          0                                            \n",
      "__________________________________________________________________________________________________\n",
      "cat12_input (InputLayer)        [(None, 1)]          0                                            \n",
      "__________________________________________________________________________________________________\n",
      "cat13_input (InputLayer)        [(None, 1)]          0                                            \n",
      "__________________________________________________________________________________________________\n",
      "cat14_input (InputLayer)        [(None, 1)]          0                                            \n",
      "__________________________________________________________________________________________________\n",
      "cat15_input (InputLayer)        [(None, 1)]          0                                            \n",
      "__________________________________________________________________________________________________\n",
      "cat16_input (InputLayer)        [(None, 1)]          0                                            \n",
      "__________________________________________________________________________________________________\n",
      "cat17_input (InputLayer)        [(None, 1)]          0                                            \n",
      "__________________________________________________________________________________________________\n",
      "cat18_input (InputLayer)        [(None, 1)]          0                                            \n",
      "__________________________________________________________________________________________________\n",
      "cat19_input (InputLayer)        [(None, 1)]          0                                            \n",
      "__________________________________________________________________________________________________\n",
      "cat2_input (InputLayer)         [(None, 1)]          0                                            \n",
      "__________________________________________________________________________________________________\n",
      "cat20_input (InputLayer)        [(None, 1)]          0                                            \n",
      "__________________________________________________________________________________________________\n",
      "cat21_input (InputLayer)        [(None, 1)]          0                                            \n",
      "__________________________________________________________________________________________________\n",
      "cat22_input (InputLayer)        [(None, 1)]          0                                            \n",
      "__________________________________________________________________________________________________\n",
      "cat23_input (InputLayer)        [(None, 1)]          0                                            \n",
      "__________________________________________________________________________________________________\n",
      "cat24_input (InputLayer)        [(None, 1)]          0                                            \n",
      "__________________________________________________________________________________________________\n",
      "cat25_input (InputLayer)        [(None, 1)]          0                                            \n",
      "__________________________________________________________________________________________________\n",
      "cat3_input (InputLayer)         [(None, 1)]          0                                            \n",
      "__________________________________________________________________________________________________\n",
      "cat4_input (InputLayer)         [(None, 1)]          0                                            \n",
      "__________________________________________________________________________________________________\n",
      "cat5_input (InputLayer)         [(None, 1)]          0                                            \n",
      "__________________________________________________________________________________________________\n",
      "cat6_input (InputLayer)         [(None, 1)]          0                                            \n",
      "__________________________________________________________________________________________________\n",
      "cat7_input (InputLayer)         [(None, 1)]          0                                            \n",
      "__________________________________________________________________________________________________\n",
      "cat8_input (InputLayer)         [(None, 1)]          0                                            \n",
      "__________________________________________________________________________________________________\n",
      "cat9_input (InputLayer)         [(None, 1)]          0                                            \n",
      "__________________________________________________________________________________________________\n",
      "numeric_input (InputLayer)      [(None, 13)]         0                                            \n",
      "__________________________________________________________________________________________________\n",
      "data_processing_layer (DataProc (None, 2123)         0           cat0_input[0][0]                 \n",
      "                                                                 cat1_input[0][0]                 \n",
      "                                                                 cat10_input[0][0]                \n",
      "                                                                 cat11_input[0][0]                \n",
      "                                                                 cat12_input[0][0]                \n",
      "                                                                 cat13_input[0][0]                \n",
      "                                                                 cat14_input[0][0]                \n",
      "                                                                 cat15_input[0][0]                \n",
      "                                                                 cat16_input[0][0]                \n",
      "                                                                 cat17_input[0][0]                \n",
      "                                                                 cat18_input[0][0]                \n",
      "                                                                 cat19_input[0][0]                \n",
      "                                                                 cat2_input[0][0]                 \n",
      "                                                                 cat20_input[0][0]                \n",
      "                                                                 cat21_input[0][0]                \n",
      "                                                                 cat22_input[0][0]                \n",
      "                                                                 cat23_input[0][0]                \n",
      "                                                                 cat24_input[0][0]                \n",
      "                                                                 cat25_input[0][0]                \n",
      "                                                                 cat3_input[0][0]                 \n",
      "                                                                 cat4_input[0][0]                 \n",
      "                                                                 cat5_input[0][0]                 \n",
      "                                                                 cat6_input[0][0]                 \n",
      "                                                                 cat7_input[0][0]                 \n",
      "                                                                 cat8_input[0][0]                 \n",
      "                                                                 cat9_input[0][0]                 \n",
      "                                                                 numeric_input[0][0]              \n",
      "__________________________________________________________________________________________________\n",
      "hiden_layer_1 (Dense)           (None, 128)          271872      data_processing_layer[0][0]      \n",
      "__________________________________________________________________________________________________\n",
      "hiden_layer_2 (Dense)           (None, 128)          16512       hiden_layer_1[0][0]              \n",
      "__________________________________________________________________________________________________\n",
      "output_layer (Dense)            (None, 1)            129         hiden_layer_2[0][0]              \n",
      "==================================================================================================\n",
      "Total params: 288,513\n",
      "Trainable params: 288,513\n",
      "Non-trainable params: 0\n",
      "__________________________________________________________________________________________________\n"
     ]
    }
   ],
   "source": [
    "ann_model.summary()"
   ]
  },
  {
   "cell_type": "markdown",
   "metadata": {},
   "source": [
    "### 5. Training"
   ]
  },
  {
   "cell_type": "code",
   "execution_count": 12,
   "metadata": {},
   "outputs": [
    {
     "name": "stdout",
     "output_type": "stream",
     "text": [
      "Epoch 1/20\n",
      "48/48 [==============================] - 3s 63ms/step - loss: 0.6865 - tp: 228.0000 - fp: 0.0000e+00 - tn: 7624.0000 - fn: 1699.0000 - accuracy: 0.8221 - precision: 1.0000 - recall: 0.1183 - auc: 0.5648 - val_loss: 0.6786 - val_tp: 93.0000 - val_fp: 0.0000e+00 - val_tn: 1901.0000 - val_fn: 406.0000 - val_accuracy: 0.8308 - val_precision: 1.0000 - val_recall: 0.1864 - val_auc: 0.5932\n",
      "Epoch 2/20\n",
      "48/48 [==============================] - 1s 26ms/step - loss: 0.6769 - tp: 416.0000 - fp: 2.0000 - tn: 7628.0000 - fn: 1505.0000 - accuracy: 0.8422 - precision: 0.9952 - recall: 0.2166 - auc: 0.6181 - val_loss: 0.6741 - val_tp: 123.0000 - val_fp: 0.0000e+00 - val_tn: 1915.0000 - val_fn: 362.0000 - val_accuracy: 0.8492 - val_precision: 1.0000 - val_recall: 0.2536 - val_auc: 0.6361\n",
      "Epoch 3/20\n",
      "48/48 [==============================] - 1s 26ms/step - loss: 0.6728 - tp: 513.0000 - fp: 0.0000e+00 - tn: 7640.0000 - fn: 1398.0000 - accuracy: 0.8536 - precision: 1.0000 - recall: 0.2684 - auc: 0.6336 - val_loss: 0.6707 - val_tp: 142.0000 - val_fp: 0.0000e+00 - val_tn: 1927.0000 - val_fn: 331.0000 - val_accuracy: 0.8621 - val_precision: 1.0000 - val_recall: 0.3002 - val_auc: 0.6501\n",
      "Epoch 4/20\n",
      "48/48 [==============================] - 1s 26ms/step - loss: 0.6713 - tp: 550.0000 - fp: 0.0000e+00 - tn: 7604.0000 - fn: 1397.0000 - accuracy: 0.8537 - precision: 1.0000 - recall: 0.2825 - auc: 0.6412 - val_loss: 0.6704 - val_tp: 144.0000 - val_fp: 0.0000e+00 - val_tn: 1911.0000 - val_fn: 345.0000 - val_accuracy: 0.8562 - val_precision: 1.0000 - val_recall: 0.2945 - val_auc: 0.6472\n",
      "Epoch 5/20\n",
      "48/48 [==============================] - 1s 26ms/step - loss: 0.6712 - tp: 552.0000 - fp: 0.0000e+00 - tn: 7609.0000 - fn: 1390.0000 - accuracy: 0.8545 - precision: 1.0000 - recall: 0.2842 - auc: 0.6421 - val_loss: 0.6754 - val_tp: 112.0000 - val_fp: 0.0000e+00 - val_tn: 1935.0000 - val_fn: 353.0000 - val_accuracy: 0.8529 - val_precision: 1.0000 - val_recall: 0.2409 - val_auc: 0.6204\n",
      "Epoch 6/20\n",
      "48/48 [==============================] - 1s 25ms/step - loss: 0.6713 - tp: 550.0000 - fp: 0.0000e+00 - tn: 7599.0000 - fn: 1402.0000 - accuracy: 0.8532 - precision: 1.0000 - recall: 0.2818 - auc: 0.6409 - val_loss: 0.6731 - val_tp: 127.0000 - val_fp: 0.0000e+00 - val_tn: 1930.0000 - val_fn: 343.0000 - val_accuracy: 0.8571 - val_precision: 1.0000 - val_recall: 0.2702 - val_auc: 0.6351\n",
      "Epoch 7/20\n",
      "48/48 [==============================] - 1s 27ms/step - loss: 0.6720 - tp: 532.0000 - fp: 0.0000e+00 - tn: 7573.0000 - fn: 1446.0000 - accuracy: 0.8486 - precision: 1.0000 - recall: 0.2690 - auc: 0.6345 - val_loss: 0.6715 - val_tp: 137.0000 - val_fp: 0.0000e+00 - val_tn: 1894.0000 - val_fn: 369.0000 - val_accuracy: 0.8462 - val_precision: 1.0000 - val_recall: 0.2708 - val_auc: 0.6354\n",
      "Epoch 8/20\n",
      "48/48 [==============================] - 1s 26ms/step - loss: 0.6718 - tp: 537.0000 - fp: 0.0000e+00 - tn: 7603.0000 - fn: 1411.0000 - accuracy: 0.8523 - precision: 1.0000 - recall: 0.2757 - auc: 0.6378 - val_loss: 0.6711 - val_tp: 139.0000 - val_fp: 0.0000e+00 - val_tn: 1903.0000 - val_fn: 358.0000 - val_accuracy: 0.8508 - val_precision: 1.0000 - val_recall: 0.2797 - val_auc: 0.6398\n",
      "Epoch 9/20\n",
      "48/48 [==============================] - 1s 26ms/step - loss: 0.6721 - tp: 529.0000 - fp: 0.0000e+00 - tn: 7590.0000 - fn: 1432.0000 - accuracy: 0.8501 - precision: 1.0000 - recall: 0.2698 - auc: 0.6349 - val_loss: 0.6738 - val_tp: 122.0000 - val_fp: 0.0000e+00 - val_tn: 1942.0000 - val_fn: 336.0000 - val_accuracy: 0.8600 - val_precision: 1.0000 - val_recall: 0.2664 - val_auc: 0.6332\n",
      "Epoch 10/20\n",
      "48/48 [==============================] - 1s 26ms/step - loss: 0.6719 - tp: 534.0000 - fp: 0.0000e+00 - tn: 7606.0000 - fn: 1411.0000 - accuracy: 0.8523 - precision: 1.0000 - recall: 0.2746 - auc: 0.6373 - val_loss: 0.6727 - val_tp: 129.0000 - val_fp: 0.0000e+00 - val_tn: 1916.0000 - val_fn: 355.0000 - val_accuracy: 0.8521 - val_precision: 1.0000 - val_recall: 0.2665 - val_auc: 0.6333\n",
      "Epoch 11/20\n",
      "48/48 [==============================] - 1s 26ms/step - loss: 0.6715 - tp: 544.0000 - fp: 0.0000e+00 - tn: 7600.0000 - fn: 1407.0000 - accuracy: 0.8527 - precision: 1.0000 - recall: 0.2788 - auc: 0.6394 - val_loss: 0.6735 - val_tp: 124.0000 - val_fp: 0.0000e+00 - val_tn: 1916.0000 - val_fn: 360.0000 - val_accuracy: 0.8500 - val_precision: 1.0000 - val_recall: 0.2562 - val_auc: 0.6281\n",
      "Epoch 12/20\n",
      "48/48 [==============================] - 1s 26ms/step - loss: 0.6716 - tp: 543.0000 - fp: 0.0000e+00 - tn: 7619.0000 - fn: 1389.0000 - accuracy: 0.8546 - precision: 1.0000 - recall: 0.2811 - auc: 0.6405 - val_loss: 0.6711 - val_tp: 139.0000 - val_fp: 0.0000e+00 - val_tn: 1900.0000 - val_fn: 361.0000 - val_accuracy: 0.8496 - val_precision: 1.0000 - val_recall: 0.2780 - val_auc: 0.6390\n",
      "Epoch 13/20\n",
      "48/48 [==============================] - 1s 27ms/step - loss: 0.6717 - tp: 540.0000 - fp: 0.0000e+00 - tn: 7624.0000 - fn: 1387.0000 - accuracy: 0.8548 - precision: 1.0000 - recall: 0.2802 - auc: 0.6401 - val_loss: 0.6727 - val_tp: 129.0000 - val_fp: 0.0000e+00 - val_tn: 1911.0000 - val_fn: 360.0000 - val_accuracy: 0.8500 - val_precision: 1.0000 - val_recall: 0.2638 - val_auc: 0.6319\n",
      "Epoch 14/20\n",
      "48/48 [==============================] - 1s 26ms/step - loss: 0.6716 - tp: 542.0000 - fp: 0.0000e+00 - tn: 7616.0000 - fn: 1393.0000 - accuracy: 0.8542 - precision: 1.0000 - recall: 0.2801 - auc: 0.6401 - val_loss: 0.6729 - val_tp: 128.0000 - val_fp: 0.0000e+00 - val_tn: 1890.0000 - val_fn: 382.0000 - val_accuracy: 0.8408 - val_precision: 1.0000 - val_recall: 0.2510 - val_auc: 0.6255\n",
      "Epoch 15/20\n",
      "48/48 [==============================] - 1s 26ms/step - loss: 0.6714 - tp: 547.0000 - fp: 0.0000e+00 - tn: 7600.0000 - fn: 1404.0000 - accuracy: 0.8530 - precision: 1.0000 - recall: 0.2804 - auc: 0.6402 - val_loss: 0.6740 - val_tp: 121.0000 - val_fp: 0.0000e+00 - val_tn: 1933.0000 - val_fn: 346.0000 - val_accuracy: 0.8558 - val_precision: 1.0000 - val_recall: 0.2591 - val_auc: 0.6296\n",
      "Epoch 16/20\n",
      "48/48 [==============================] - 1s 25ms/step - loss: 0.6716 - tp: 542.0000 - fp: 0.0000e+00 - tn: 7596.0000 - fn: 1413.0000 - accuracy: 0.8521 - precision: 1.0000 - recall: 0.2772 - auc: 0.6386 - val_loss: 0.6719 - val_tp: 134.0000 - val_fp: 0.0000e+00 - val_tn: 1902.0000 - val_fn: 364.0000 - val_accuracy: 0.8483 - val_precision: 1.0000 - val_recall: 0.2691 - val_auc: 0.6345\n",
      "Epoch 17/20\n",
      "48/48 [==============================] - 1s 26ms/step - loss: 0.6720 - tp: 532.0000 - fp: 0.0000e+00 - tn: 7638.0000 - fn: 1381.0000 - accuracy: 0.8554 - precision: 1.0000 - recall: 0.2781 - auc: 0.6390 - val_loss: 0.6716 - val_tp: 136.0000 - val_fp: 0.0000e+00 - val_tn: 1910.0000 - val_fn: 354.0000 - val_accuracy: 0.8525 - val_precision: 1.0000 - val_recall: 0.2776 - val_auc: 0.6388\n",
      "Epoch 18/20\n",
      "48/48 [==============================] - 1s 26ms/step - loss: 0.6719 - tp: 534.0000 - fp: 0.0000e+00 - tn: 7595.0000 - fn: 1422.0000 - accuracy: 0.8511 - precision: 1.0000 - recall: 0.2730 - auc: 0.6365 - val_loss: 0.6726 - val_tp: 130.0000 - val_fp: 0.0000e+00 - val_tn: 1914.0000 - val_fn: 356.0000 - val_accuracy: 0.8517 - val_precision: 1.0000 - val_recall: 0.2675 - val_auc: 0.6337\n",
      "Epoch 19/20\n",
      "48/48 [==============================] - 1s 27ms/step - loss: 0.6721 - tp: 530.0000 - fp: 0.0000e+00 - tn: 7612.0000 - fn: 1409.0000 - accuracy: 0.8525 - precision: 1.0000 - recall: 0.2733 - auc: 0.6367 - val_loss: 0.6724 - val_tp: 131.0000 - val_fp: 0.0000e+00 - val_tn: 1909.0000 - val_fn: 360.0000 - val_accuracy: 0.8500 - val_precision: 1.0000 - val_recall: 0.2668 - val_auc: 0.6334\n",
      "Epoch 20/20\n",
      "48/48 [==============================] - 1s 26ms/step - loss: 0.6716 - tp: 542.0000 - fp: 0.0000e+00 - tn: 7605.0000 - fn: 1404.0000 - accuracy: 0.8530 - precision: 1.0000 - recall: 0.2785 - auc: 0.6393 - val_loss: 0.6743 - val_tp: 119.0000 - val_fp: 0.0000e+00 - val_tn: 1954.0000 - val_fn: 327.0000 - val_accuracy: 0.8637 - val_precision: 1.0000 - val_recall: 0.2668 - val_auc: 0.6334\n"
     ]
    }
   ],
   "source": [
    "model_history = ann_model.fit(\n",
    "    train_dataset, \n",
    "    validation_data=validate_dataset, \n",
    "    epochs=20, \n",
    "    workers=4)"
   ]
  },
  {
   "cell_type": "code",
   "execution_count": 13,
   "metadata": {},
   "outputs": [],
   "source": [
    "def fitting_plot(fitting_history, \n",
    "                 metrics):\n",
    "    \n",
    "    plt.figure(figsize=(10,5))\n",
    "    plt.plot(fitting_history.history[metrics])\n",
    "    plt.plot(fitting_history.history[f'val_{metrics}'])\n",
    "    plt.title(f'model {metrics}')\n",
    "    plt.ylabel(metrics)\n",
    "    plt.xlabel('epoch')\n",
    "    plt.legend(['train', 'val'])\n",
    "    plt.show()"
   ]
  },
  {
   "cell_type": "code",
   "execution_count": 14,
   "metadata": {},
   "outputs": [
    {
     "data": {
      "image/png": "[encoded data removed]",
      "text/plain": [
       "<Figure size 720x360 with 1 Axes>"
      ]
     },
     "metadata": {
      "needs_background": "light"
     },
     "output_type": "display_data"
    },
    {
     "data": {
      "image/png": "[encoded data removed]",
      "text/plain": [
       "<Figure size 720x360 with 1 Axes>"
      ]
     },
     "metadata": {
      "needs_background": "light"
     },
     "output_type": "display_data"
    },
    {
     "data": {
      "image/png": "[encoded data removed]",
      "text/plain": [
       "<Figure size 720x360 with 1 Axes>"
      ]
     },
     "metadata": {
      "needs_background": "light"
     },
     "output_type": "display_data"
    }
   ],
   "source": [
    "for metrics in ['loss', 'accuracy', 'auc']:\n",
    "    fitting_plot(fitting_history=model_history, metrics=metrics)"
   ]
  },
  {
   "cell_type": "markdown",
   "metadata": {},
   "source": [
    "### 6. Evaluation"
   ]
  },
  {
   "cell_type": "markdown",
   "metadata": {},
   "source": [
    "#### 6.1 Load testing dataset"
   ]
  },
  {
   "cell_type": "code",
   "execution_count": 15,
   "metadata": {},
   "outputs": [],
   "source": [
    "testing_dataset = tf.data.experimental.make_csv_dataset(\n",
    "    file_pattern='data/dac/sample_test.txt', \n",
    "    batch_size=200,\n",
    "    num_epochs=1,\n",
    "    column_defaults=COLUMN_DEFAULTS,\n",
    "    column_names=COLUMNS, \n",
    "    label_name='lbl', \n",
    "    field_delim='\\t',\n",
    "    shuffle=True\n",
    ").shuffle(10, reshuffle_each_iteration=False)"
   ]
  },
  {
   "cell_type": "code",
   "execution_count": 16,
   "metadata": {},
   "outputs": [],
   "source": [
    "testing_packed_dataset = testing_dataset.map(FeaturesExtraction(num_col=NUM_COLUMNS))"
   ]
  },
  {
   "cell_type": "code",
   "execution_count": 17,
   "metadata": {},
   "outputs": [
    {
     "data": {
      "text/plain": [
       "{'loss': 0.6718186140060425,\n",
       " 'tp': 671.0,\n",
       " 'fp': 0.0,\n",
       " 'tn': 9513.0,\n",
       " 'fn': 1767.0,\n",
       " 'accuracy': 0.8521462678909302,\n",
       " 'precision': 1.0,\n",
       " 'recall': 0.27522560954093933,\n",
       " 'auc': 0.6376128196716309}"
      ]
     },
     "execution_count": 17,
     "metadata": {},
     "output_type": "execute_result"
    }
   ],
   "source": [
    "ann_model.evaluate(testing_packed_dataset, return_dict=True, verbose=0)"
   ]
  },
  {
   "cell_type": "code",
   "execution_count": null,
   "metadata": {},
   "outputs": [],
   "source": []
  }
 ],
 "metadata": {
  "kernelspec": {
   "display_name": "binary_classifier_lab",
   "language": "python",
   "name": "binary_classifier_lab"
  },
  "language_info": {
   "codemirror_mode": {
    "name": "ipython",
    "version": 3
   },
   "file_extension": ".py",
   "mimetype": "text/x-python",
   "name": "python",
   "nbconvert_exporter": "python",
   "pygments_lexer": "ipython3",
   "version": "3.6.1"
  }
 },
 "nbformat": 4,
 "nbformat_minor": 4
}
