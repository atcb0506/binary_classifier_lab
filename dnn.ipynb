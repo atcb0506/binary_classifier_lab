{
 "cells": [
  {
   "cell_type": "markdown",
   "metadata": {},
   "source": [
    "# DNN classifier\n",
    "\n",
    "reference data: https://labs.criteo.com/2013/12/download-terabyte-click-logs-2/"
   ]
  },
  {
   "cell_type": "code",
   "execution_count": 1,
   "metadata": {},
   "outputs": [],
   "source": [
    "import pandas as pd\n",
    "import numpy as np\n",
    "import tensorflow as tf\n",
    "from tensorflow.keras.layers.experimental.preprocessing import PreprocessingLayer, TextVectorization"
   ]
  },
  {
   "cell_type": "markdown",
   "metadata": {},
   "source": [
    "### 1. Data batching"
   ]
  },
  {
   "cell_type": "markdown",
   "metadata": {},
   "source": [
    "#### 1.1. Load dataset"
   ]
  },
  {
   "cell_type": "code",
   "execution_count": 2,
   "metadata": {},
   "outputs": [],
   "source": [
    "LBL_COLUMN = ['lbl']\n",
    "CAT_COLUMNS = [f'cat{i}' for i in range(26)]\n",
    "NUM_COLUMNS = [f'num{i}' for i in range(13)]\n",
    "COLUMNS = LBL_COLUMN + NUM_COLUMNS + CAT_COLUMNS\n",
    "FEATURE_COLUMNS = NUM_COLUMNS + CAT_COLUMNS\n",
    "COLUMN_DEFAULTS = [0]*14 + ['thisisdefault']*26"
   ]
  },
  {
   "cell_type": "code",
   "execution_count": 3,
   "metadata": {},
   "outputs": [],
   "source": [
    "dataset = tf.data.experimental.make_csv_dataset(\n",
    "    file_pattern='data/dac/sample.txt', \n",
    "    batch_size=20,\n",
    "    num_epochs=1,\n",
    "    column_defaults=COLUMN_DEFAULTS,\n",
    "    column_names=COLUMNS, \n",
    "    label_name='lbl', \n",
    "    field_delim='\\t'\n",
    ")"
   ]
  },
  {
   "cell_type": "markdown",
   "metadata": {},
   "source": [
    "#### 1.2. Conbine the columes"
   ]
  },
  {
   "cell_type": "code",
   "execution_count": 4,
   "metadata": {},
   "outputs": [],
   "source": [
    "class FeaturesExtraction:\n",
    "    \n",
    "    def __init__(self, num_col, feature_type=None):\n",
    "        self.num_col = num_col\n",
    "        self.feature_type = feature_type\n",
    "\n",
    "    def __call__(self, features, labels):\n",
    "        numeric_features = [features.pop(col) for col in self.num_col]\n",
    "        numeric_features = [tf.cast(feat, tf.float32) for feat in numeric_features]\n",
    "        numeric_features = tf.stack(numeric_features, axis=-1)\n",
    "        \n",
    "        if self.feature_type == 'cat':\n",
    "            return features\n",
    "        if self.feature_type == 'numeric':\n",
    "            return numeric_features\n",
    "        else:\n",
    "            features['numeric'] = numeric_features\n",
    "            return features, labels\n"
   ]
  },
  {
   "cell_type": "code",
   "execution_count": 4,
   "metadata": {},
   "outputs": [],
   "source": [
    "packed_dataset = dataset.map(FeaturesExtraction(num_col=NUM_COLUMNS))"
   ]
  },
  {
   "cell_type": "markdown",
   "metadata": {},
   "source": [
    "### 2. Data processing"
   ]
  },
  {
   "cell_type": "code",
   "execution_count": 5,
   "metadata": {},
   "outputs": [],
   "source": [
    "class DataProcessingLayer(PreprocessingLayer):\n",
    "    \n",
    "    def __init__(self, ls_cat_col, num_col, name=None):\n",
    "        \n",
    "        super(DataProcessingLayer, self).__init__(name=name)\n",
    "        self._ls_cat_col = ls_cat_col\n",
    "        self._num_col = num_col\n",
    "        self._dict_vectorization_layer = dict()\n",
    "        for key in ls_cat_col:\n",
    "            self._dict_vectorization_layer.update({\n",
    "                key: TextVectorization(output_sequence_length=1)\n",
    "            })\n",
    "        self.processing_layer = None\n",
    "    \n",
    "    def adapt(self, data):\n",
    "        \n",
    "        for cat_col in self._ls_cat_col:\n",
    "            tmp_dataset = data.map(lambda feature, label: feature.pop(cat_col))\n",
    "            self._dict_vectorization_layer[cat_col].adapt(tmp_dataset)\n",
    "    \n",
    "    def build(self, input_shape):\n",
    "        \n",
    "        dict_cat_vocab = dict()\n",
    "        ls_feature_cat_col = list()\n",
    "        ls_feature_num_col = list()\n",
    "        \n",
    "        for cat_col in self._ls_cat_col:\n",
    "            dict_cat_vocab.update({\n",
    "                cat_col: self._dict_vectorization_layer[cat_col].get_vocabulary()\n",
    "            })\n",
    "        \n",
    "        for cat_col, vocab in dict_cat_vocab.items():\n",
    "            tf_cat_vocab = tf.feature_column.categorical_column_with_vocabulary_list(\n",
    "                key=cat_col, vocabulary_list=vocab)\n",
    "            ls_feature_cat_col.append(tf.feature_column.indicator_column(tf_cat_vocab))\n",
    "            \n",
    "        ls_feature_num_col.append(tf.feature_column.numeric_column(self._num_col, shape=input_shape[self._num_col].as_list()[-1]))\n",
    "        \n",
    "        self.processing_layer = tf.keras.layers.DenseFeatures(\n",
    "            ls_feature_cat_col + ls_feature_num_col)\n",
    "        \n",
    "    def call(self, inputs):\n",
    "        \n",
    "        return self.processing_layer(inputs)\n",
    "        "
   ]
  },
  {
   "cell_type": "code",
   "execution_count": 6,
   "metadata": {},
   "outputs": [],
   "source": [
    "data_processing_layer = DataProcessingLayer(\n",
    "    ls_cat_col=CAT_COLUMNS,\n",
    "    num_col='numeric',\n",
    "    name='data_processing_layer'\n",
    ")"
   ]
  },
  {
   "cell_type": "code",
   "execution_count": 7,
   "metadata": {},
   "outputs": [],
   "source": [
    "data_processing_layer.adapt(data=packed_dataset)"
   ]
  },
  {
   "cell_type": "markdown",
   "metadata": {},
   "source": [
    "### 3. ANN Model Building"
   ]
  },
  {
   "cell_type": "code",
   "execution_count": 8,
   "metadata": {},
   "outputs": [],
   "source": [
    "ann_model_input = {\n",
    "    'numeric': tf.keras.Input((len(NUM_COLUMNS),), dtype=tf.dtypes.float32, name=f'numeric_input')\n",
    "}\n",
    "\n",
    "for cat_column in CAT_COLUMNS:\n",
    "    ann_model_input.update({cat_column: tf.keras.Input((1,), dtype=tf.dtypes.string, name=f'{cat_column}_input')})\n",
    "\n",
    "x = data_processing_layer(ann_model_input)\n",
    "x = tf.keras.layers.Dense(128, activation=\"relu\", name='hiden_layer_1')(x)\n",
    "x = tf.keras.layers.Dense(128, activation=\"relu\", name='hiden_layer_2')(x)\n",
    "ann_model_output = tf.keras.layers.Dense(1, activation='sigmoid', name='output_layer')(x)\n",
    "\n",
    "ann_model = tf.keras.Model(\n",
    "    inputs=ann_model_input, \n",
    "    outputs=ann_model_output, \n",
    "    name='binary_classifer')\n",
    "\n",
    "ann_model.compile(\n",
    "    loss=tf.keras.losses.BinaryCrossentropy(from_logits=True),\n",
    "    optimizer='adam',\n",
    "    metrics=['accuracy'])"
   ]
  },
  {
   "cell_type": "code",
   "execution_count": 9,
   "metadata": {},
   "outputs": [
    {
     "name": "stdout",
     "output_type": "stream",
     "text": [
      "Model: \"binary_classifer\"\n",
      "__________________________________________________________________________________________________\n",
      "Layer (type)                    Output Shape         Param #     Connected to                     \n",
      "==================================================================================================\n",
      "cat0_input (InputLayer)         [(None, 1)]          0                                            \n",
      "__________________________________________________________________________________________________\n",
      "cat1_input (InputLayer)         [(None, 1)]          0                                            \n",
      "__________________________________________________________________________________________________\n",
      "cat10_input (InputLayer)        [(None, 1)]          0                                            \n",
      "__________________________________________________________________________________________________\n",
      "cat11_input (InputLayer)        [(None, 1)]          0                                            \n",
      "__________________________________________________________________________________________________\n",
      "cat12_input (InputLayer)        [(None, 1)]          0                                            \n",
      "__________________________________________________________________________________________________\n",
      "cat13_input (InputLayer)        [(None, 1)]          0                                            \n",
      "__________________________________________________________________________________________________\n",
      "cat14_input (InputLayer)        [(None, 1)]          0                                            \n",
      "__________________________________________________________________________________________________\n",
      "cat15_input (InputLayer)        [(None, 1)]          0                                            \n",
      "__________________________________________________________________________________________________\n",
      "cat16_input (InputLayer)        [(None, 1)]          0                                            \n",
      "__________________________________________________________________________________________________\n",
      "cat17_input (InputLayer)        [(None, 1)]          0                                            \n",
      "__________________________________________________________________________________________________\n",
      "cat18_input (InputLayer)        [(None, 1)]          0                                            \n",
      "__________________________________________________________________________________________________\n",
      "cat19_input (InputLayer)        [(None, 1)]          0                                            \n",
      "__________________________________________________________________________________________________\n",
      "cat2_input (InputLayer)         [(None, 1)]          0                                            \n",
      "__________________________________________________________________________________________________\n",
      "cat20_input (InputLayer)        [(None, 1)]          0                                            \n",
      "__________________________________________________________________________________________________\n",
      "cat21_input (InputLayer)        [(None, 1)]          0                                            \n",
      "__________________________________________________________________________________________________\n",
      "cat22_input (InputLayer)        [(None, 1)]          0                                            \n",
      "__________________________________________________________________________________________________\n",
      "cat23_input (InputLayer)        [(None, 1)]          0                                            \n",
      "__________________________________________________________________________________________________\n",
      "cat24_input (InputLayer)        [(None, 1)]          0                                            \n",
      "__________________________________________________________________________________________________\n",
      "cat25_input (InputLayer)        [(None, 1)]          0                                            \n",
      "__________________________________________________________________________________________________\n",
      "cat3_input (InputLayer)         [(None, 1)]          0                                            \n",
      "__________________________________________________________________________________________________\n",
      "cat4_input (InputLayer)         [(None, 1)]          0                                            \n",
      "__________________________________________________________________________________________________\n",
      "cat5_input (InputLayer)         [(None, 1)]          0                                            \n",
      "__________________________________________________________________________________________________\n",
      "cat6_input (InputLayer)         [(None, 1)]          0                                            \n",
      "__________________________________________________________________________________________________\n",
      "cat7_input (InputLayer)         [(None, 1)]          0                                            \n",
      "__________________________________________________________________________________________________\n",
      "cat8_input (InputLayer)         [(None, 1)]          0                                            \n",
      "__________________________________________________________________________________________________\n",
      "cat9_input (InputLayer)         [(None, 1)]          0                                            \n",
      "__________________________________________________________________________________________________\n",
      "numeric_input (InputLayer)      [(None, 13)]         0                                            \n",
      "__________________________________________________________________________________________________\n",
      "data_processing_layer (DataProc (None, 2123)         0           cat0_input[0][0]                 \n",
      "                                                                 cat1_input[0][0]                 \n",
      "                                                                 cat10_input[0][0]                \n",
      "                                                                 cat11_input[0][0]                \n",
      "                                                                 cat12_input[0][0]                \n",
      "                                                                 cat13_input[0][0]                \n",
      "                                                                 cat14_input[0][0]                \n",
      "                                                                 cat15_input[0][0]                \n",
      "                                                                 cat16_input[0][0]                \n",
      "                                                                 cat17_input[0][0]                \n",
      "                                                                 cat18_input[0][0]                \n",
      "                                                                 cat19_input[0][0]                \n",
      "                                                                 cat2_input[0][0]                 \n",
      "                                                                 cat20_input[0][0]                \n",
      "                                                                 cat21_input[0][0]                \n",
      "                                                                 cat22_input[0][0]                \n",
      "                                                                 cat23_input[0][0]                \n",
      "                                                                 cat24_input[0][0]                \n",
      "                                                                 cat25_input[0][0]                \n",
      "                                                                 cat3_input[0][0]                 \n",
      "                                                                 cat4_input[0][0]                 \n",
      "                                                                 cat5_input[0][0]                 \n",
      "                                                                 cat6_input[0][0]                 \n",
      "                                                                 cat7_input[0][0]                 \n",
      "                                                                 cat8_input[0][0]                 \n",
      "                                                                 cat9_input[0][0]                 \n",
      "                                                                 numeric_input[0][0]              \n",
      "__________________________________________________________________________________________________\n",
      "hiden_layer_1 (Dense)           (None, 128)          271872      data_processing_layer[0][0]      \n",
      "__________________________________________________________________________________________________\n",
      "hiden_layer_2 (Dense)           (None, 128)          16512       hiden_layer_1[0][0]              \n",
      "__________________________________________________________________________________________________\n",
      "output_layer (Dense)            (None, 1)            129         hiden_layer_2[0][0]              \n",
      "==================================================================================================\n",
      "Total params: 288,513\n",
      "Trainable params: 288,513\n",
      "Non-trainable params: 0\n",
      "__________________________________________________________________________________________________\n"
     ]
    }
   ],
   "source": [
    "ann_model.summary()"
   ]
  },
  {
   "cell_type": "markdown",
   "metadata": {},
   "source": [
    "### 5. Training"
   ]
  },
  {
   "cell_type": "code",
   "execution_count": 10,
   "metadata": {},
   "outputs": [
    {
     "name": "stdout",
     "output_type": "stream",
     "text": [
      "Epoch 1/20\n",
      "294/294 [==============================] - 1s 4ms/step - loss: 0.6923 - accuracy: 0.8022\n",
      "Epoch 2/20\n",
      "294/294 [==============================] - 1s 3ms/step - loss: 0.6778 - accuracy: 0.8374\n",
      "Epoch 3/20\n",
      "294/294 [==============================] - 1s 3ms/step - loss: 0.6757 - accuracy: 0.8420\n",
      "Epoch 4/20\n",
      "294/294 [==============================] - 1s 3ms/step - loss: 0.6755 - accuracy: 0.8425\n",
      "Epoch 5/20\n",
      "294/294 [==============================] - 1s 4ms/step - loss: 0.6740 - accuracy: 0.8467\n",
      "Epoch 6/20\n",
      "294/294 [==============================] - 1s 4ms/step - loss: 0.6718 - accuracy: 0.8522\n",
      "Epoch 7/20\n",
      "294/294 [==============================] - 1s 4ms/step - loss: 0.6718 - accuracy: 0.8522\n",
      "Epoch 8/20\n",
      "294/294 [==============================] - 1s 4ms/step - loss: 0.6718 - accuracy: 0.8522\n",
      "Epoch 9/20\n",
      "294/294 [==============================] - 1s 4ms/step - loss: 0.6718 - accuracy: 0.8522\n",
      "Epoch 10/20\n",
      "294/294 [==============================] - 1s 4ms/step - loss: 0.6718 - accuracy: 0.8522\n",
      "Epoch 11/20\n",
      "294/294 [==============================] - 1s 3ms/step - loss: 0.6718 - accuracy: 0.8522\n",
      "Epoch 12/20\n",
      "294/294 [==============================] - 1s 3ms/step - loss: 0.6718 - accuracy: 0.8522\n",
      "Epoch 13/20\n",
      "294/294 [==============================] - 1s 3ms/step - loss: 0.6718 - accuracy: 0.8522\n",
      "Epoch 14/20\n",
      "294/294 [==============================] - 1s 4ms/step - loss: 0.6718 - accuracy: 0.8522\n",
      "Epoch 15/20\n",
      "294/294 [==============================] - 1s 3ms/step - loss: 0.6718 - accuracy: 0.8522\n",
      "Epoch 16/20\n",
      "294/294 [==============================] - 1s 3ms/step - loss: 0.6718 - accuracy: 0.8522\n",
      "Epoch 17/20\n",
      "294/294 [==============================] - 1s 4ms/step - loss: 0.6718 - accuracy: 0.8522\n",
      "Epoch 18/20\n",
      "294/294 [==============================] - 1s 4ms/step - loss: 0.6718 - accuracy: 0.8522\n",
      "Epoch 19/20\n",
      "294/294 [==============================] - 1s 4ms/step - loss: 0.6718 - accuracy: 0.8522\n",
      "Epoch 20/20\n",
      "294/294 [==============================] - 1s 4ms/step - loss: 0.6718 - accuracy: 0.8522\n"
     ]
    },
    {
     "data": {
      "text/plain": [
       "<tensorflow.python.keras.callbacks.History at 0x13d9b5ac8>"
      ]
     },
     "execution_count": 10,
     "metadata": {},
     "output_type": "execute_result"
    }
   ],
   "source": [
    "ann_model.fit(packed_dataset, epochs=20)"
   ]
  },
  {
   "cell_type": "code",
   "execution_count": null,
   "metadata": {},
   "outputs": [],
   "source": []
  }
 ],
 "metadata": {
  "kernelspec": {
   "display_name": "binary_classifier_lab",
   "language": "python",
   "name": "binary_classifier_lab"
  },
  "language_info": {
   "codemirror_mode": {
    "name": "ipython",
    "version": 3
   },
   "file_extension": ".py",
   "mimetype": "text/x-python",
   "name": "python",
   "nbconvert_exporter": "python",
   "pygments_lexer": "ipython3",
   "version": "3.6.1"
  }
 },
 "nbformat": 4,
 "nbformat_minor": 4
}
